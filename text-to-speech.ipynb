{
 "cells": [
  {
   "cell_type": "code",
   "execution_count": 4,
   "id": "1ddebfb6",
   "metadata": {},
   "outputs": [
    {
     "name": "stderr",
     "output_type": "stream",
     "text": [
      "/home/paxton/miniconda3/envs/tts-breezy-voice/lib/python3.10/site-packages/tqdm/auto.py:21: TqdmWarning: IProgress not found. Please update jupyter and ipywidgets. See https://ipywidgets.readthedocs.io/en/stable/user_install.html\n",
      "  from .autonotebook import tqdm as notebook_tqdm\n"
     ]
    }
   ],
   "source": [
    "from tts import TTS"
   ]
  },
  {
   "cell_type": "code",
   "execution_count": null,
   "id": "1bd2a5d0",
   "metadata": {},
   "outputs": [],
   "source": [
    "!sudo apt-get install espeak-ng -y"
   ]
  },
  {
   "cell_type": "code",
   "execution_count": 5,
   "id": "25dc3983",
   "metadata": {},
   "outputs": [
    {
     "name": "stdout",
     "output_type": "stream",
     "text": [
      "læɹævəl \n"
     ]
    }
   ],
   "source": [
    "from phonemizer import phonemize\n",
    "\n",
    "text = \"Laravel\"\n",
    "ipa = phonemize(text, language='en-us', backend='espeak')\n",
    "print(ipa)"
   ]
  },
  {
   "cell_type": "code",
   "execution_count": 6,
   "id": "cea6d20d",
   "metadata": {},
   "outputs": [],
   "source": [
    "# prompt_path = \"data/example.wav\"\n",
    "# prompt_text = \"在密碼學中，加密是將明文資訊改變為難以讀取的密文內容，使之不可讀的方法。只有擁有解密方法的對象，經由解密過程，才能將密文還原為正常可讀的內容。\"\n",
    "prompt_path = \"data/佑希-新聞播報-ai.wav\"\n",
    "prompt_text = \"以下是今天的新聞播報，美國蘋果公司在今天發表了新的 iPhone 17 系列，分別有 iPhone 17、iPhone 17 Plus，iPhone 17 Pro 和 iPhone 17 Pro Max，此次發表會還發表了全新升級的 AI 功能，讓 iPhone 17 系列有了比 siri 更加強大且實用的 AI 能力。\"\n",
    "# prompt_path = \"data/laravel.wav\"\n",
    "# prompt_text = \"今天我們從使用者發出請求開始，沿著 Laravel 的請求生命週期，一路走訪專案結構：從路由，Middleware，Controller，到商業邏輯，資料層與視圖，幫你建立一張清晰的心智地圖。\""
   ]
  },
  {
   "cell_type": "code",
   "execution_count": 7,
   "id": "d41a43c3",
   "metadata": {},
   "outputs": [
    {
     "name": "stderr",
     "output_type": "stream",
     "text": [
      "Fetching 154 files: 100%|██████████| 154/154 [00:00<00:00, 771711.85it/s]\n",
      "/home/paxton/miniconda3/envs/tts-breezy-voice/lib/python3.10/site-packages/torch/_jit_internal.py:874: FutureWarning: ignore(True) has been deprecated. TorchScript will now drop the function call on compilation. Use torch.jit.unused now. {}\n",
      "  warnings.warn(\n"
     ]
    },
    {
     "name": "stdout",
     "output_type": "stream",
     "text": [
      "model /home/paxton/.cache/huggingface/hub/models--MediaTek-Research--BreezyVoice-300M/snapshots/e33b502e0ac21c16b0ee0d00df66ac3fa737393d\n"
     ]
    },
    {
     "name": "stderr",
     "output_type": "stream",
     "text": [
      "/home/paxton/miniconda3/envs/tts-breezy-voice/lib/python3.10/site-packages/diffusers/models/lora.py:393: FutureWarning: `LoRACompatibleLinear` is deprecated and will be removed in version 1.0.0. Use of `LoRACompatibleLinear` is deprecated. Please switch to PEFT backend by installing PEFT: `pip install peft`.\n",
      "  deprecate(\"LoRACompatibleLinear\", \"1.0.0\", deprecation_message)\n",
      "/home/paxton/miniconda3/envs/tts-breezy-voice/lib/python3.10/site-packages/torch/nn/utils/weight_norm.py:144: FutureWarning: `torch.nn.utils.weight_norm` is deprecated in favor of `torch.nn.utils.parametrizations.weight_norm`.\n",
      "  WeightNorm.apply(module, name, dim)\n",
      "/home/paxton/code/llm/BreezyVoice/cosyvoice/dataset/processor.py:24: UserWarning: torchaudio._backend.set_audio_backend has been deprecated. This deprecation is part of a large refactoring effort to transition TorchAudio into a maintenance phase. The decoding and encoding capabilities of PyTorch for both audio and video are being consolidated into TorchCodec. Please see https://github.com/pytorch/audio/issues/3902 for more information. It will be removed from the 2.9 release. \n",
      "  torchaudio.set_audio_backend('soundfile')\n",
      "/home/paxton/miniconda3/envs/tts-breezy-voice/lib/python3.10/site-packages/torchaudio/_internal/module_utils.py:71: UserWarning: torchaudio._backend.set_audio_backend has been deprecated. With dispatcher enabled, this function is no-op. You can remove the function call.\n",
      "  return func(*args, **kwargs)\n",
      "/home/paxton/miniconda3/envs/tts-breezy-voice/lib/python3.10/site-packages/onnxruntime/capi/onnxruntime_inference_collection.py:121: UserWarning: Specified provider 'CUDAExecutionProvider' is not in available provider names.Available providers: 'AzureExecutionProvider, CPUExecutionProvider'\n",
      "  warnings.warn(\n"
     ]
    },
    {
     "name": "stdout",
     "output_type": "stream",
     "text": [
      "load leagacy transf breakmodel\n",
      "load leagacy transf breakmodel\n",
      "text.cc: festival_Text_init\n",
      "open voice lang map failed\n",
      "set used by tts frd\n",
      "Create TikTokenTokenizer with config_path=/home/paxton/.cache/huggingface/hub/models--MediaTek-Research--BreezyVoice-300M/snapshots/e33b502e0ac21c16b0ee0d00df66ac3fa737393d/CosyVoice-ttsfrd/resource/tokenizer/tiktoken.toml config_name=multilingual rank_path=/home/paxton/.cache/huggingface/hub/models--MediaTek-Research--BreezyVoice-300M/snapshots/e33b502e0ac21c16b0ee0d00df66ac3fa737393d/CosyVoice-ttsfrd/resource/tokenizer/multilingual.tiktoken\n",
      "load tokenizer failed\n",
      "break model index not valid\n"
     ]
    },
    {
     "name": "stderr",
     "output_type": "stream",
     "text": [
      "failed to do test: failed to open file: /home/paxton/.cache/huggingface/hub/models--MediaTek-Research--BreezyVoice-300M/snapshots/e33b502e0ac21c16b0ee0d00df66ac3fa737393d/CosyVoice-ttsfrd/resource/tokenizer/tiktoken.toml\n",
      "/home/paxton/miniconda3/envs/tts-breezy-voice/lib/python3.10/site-packages/torchaudio/_backend/utils.py:213: UserWarning: In 2.9, this function's implementation will be changed to use torchaudio.load_with_torchcodec` under the hood. Some parameters like ``normalize``, ``format``, ``buffer_size``, and ``backend`` will be ignored. We recommend that you port your code to rely directly on TorchCodec's decoder instead: https://docs.pytorch.org/torchcodec/stable/generated/torchcodec.decoders.AudioDecoder.html#torchcodec.decoders.AudioDecoder.\n",
      "  warnings.warn(\n",
      "/home/paxton/miniconda3/envs/tts-breezy-voice/lib/python3.10/site-packages/torchaudio/_backend/ffmpeg.py:88: UserWarning: torio.io._streaming_media_decoder.StreamingMediaDecoder has been deprecated. This deprecation is part of a large refactoring effort to transition TorchAudio into a maintenance phase. The decoding and encoding capabilities of PyTorch for both audio and video are being consolidated into TorchCodec. Please see https://github.com/pytorch/audio/issues/3902 for more information. It will be removed from the 2.9 release. \n",
      "  s = torchaudio.io.StreamReader(src, format, None, buffer_size)\n"
     ]
    }
   ],
   "source": [
    "tts = TTS(prompt_path, prompt_text)"
   ]
  },
  {
   "cell_type": "code",
   "execution_count": 32,
   "id": "a37bf309",
   "metadata": {},
   "outputs": [
    {
     "name": "stdout",
     "output_type": "stream",
     "text": [
      "zh-TW-HsiaoChenNeural              Female    General                Friendly, Positive\n",
      "zh-TW-HsiaoYuNeural                Female    General                Friendly, Positive\n",
      "zh-TW-YunJheNeural                 Male      General                Friendly, Positive\n"
     ]
    }
   ],
   "source": [
    "!edge-tts --list-voice | grep zh-TW"
   ]
  },
  {
   "cell_type": "code",
   "execution_count": 36,
   "id": "4031ab75",
   "metadata": {},
   "outputs": [],
   "source": [
    "!edge-tts --voice zh-TW-YunJheNeural --text \"還錢\" --write-media output.mp3"
   ]
  },
  {
   "cell_type": "code",
   "execution_count": 29,
   "id": "43a74370",
   "metadata": {},
   "outputs": [
    {
     "name": "stdout",
     "output_type": "stream",
     "text": [
      "\n",
      "<speak>\n",
      "大家好，今天我要來介紹，\n",
      "<phoneme alphabet=\"ipa\" ph=\"læɹævəl\">Laravel</phoneme>。\n",
      "<prosody rate=\"fast\">P H P unit dot X M L</prosody>\n",
      "</speak>\n",
      "\n",
      "Synthesizing: 大家好，今天我要來介紹，Laravel。\n",
      "max value is  tensor(1.0008)\n",
      "Synthesizing: P H P unit dot X M L\n",
      "max value is  tensor(1.0008)\n"
     ]
    }
   ],
   "source": [
    "# 測試用例\n",
    "output_path = \"results/laravel-test.wav\"\n",
    "generate_text = \"\"\"\n",
    "<speak>\n",
    "大家好，今天我要來介紹，\n",
    "<phoneme alphabet=\"ipa\" ph=\"læɹævəl\">Laravel</phoneme>。\n",
    "<prosody rate=\"fast\">P H P unit dot X M L</prosody>\n",
    "</speak>\n",
    "\"\"\"\n",
    "print(generate_text)\n",
    "tts.generate(generate_text, output_path)"
   ]
  },
  {
   "cell_type": "code",
   "execution_count": null,
   "id": "6dcc7209",
   "metadata": {},
   "outputs": [],
   "source": [
    "data = [\n",
    "\"\"\"\n",
    "Laravel 的 public 資料夾，就像網站的大門，所有使用者的請求，都會先進到這裡，裡面最重要的檔案是 index.p h p，它會啟動整個 Laravel，並把請求交給系統處理。同時，public 也存放 CSS、JS、圖片等靜態資源，方便瀏覽器直接存取。因為只有 public 可以對外公開，Laravel 其他核心程式就能被保護起來，確保應用安全。\n",
    "\"\"\",\n",
    "\"\"\"\n",
    "在 Laravel 專案中，resources 資料夾放的是前端相關的資源。\n",
    "像是 Blade 樣板，CSS 和 JavaScript 原始檔，\n",
    "以及 語系翻譯檔。\n",
    "\"\"\",\n",
    "\"\"\"\n",
    "在 Laravel 專案中，routes 資料夾用來定義網站的所有路由。\n",
    "裡面有 web.批H批 負責網頁路由，\n",
    "api.批H批 處理 API，\n",
    "還有 console.批H批 負責處理指令，channels.批H批 負責處理 websocket。\n",
    "\n",
    "\"\"\",\n",
    "\"\"\"\n",
    "在 Laravel 專案中，storage 資料夾用來存放應用程式的檔案。\n",
    "這裡有 logs 日誌檔，framework 快取，\n",
    "還有上傳的檔案。\n",
    "\"\"\",\n",
    "\"\"\"\n",
    "在 Laravel 專案中，tests 資料夾用來放置測試程式碼。\n",
    "這裡可以寫單元測試或功能測試，\n",
    "幫助你確保程式邏輯正確無誤。\n",
    "\"\"\",\n",
    "\"\"\"\n",
    "在 Laravel 專案中，dot env 檔案用來管理環境設定。\n",
    "像是資料庫帳號密碼，API 金鑰，甚至應用程式模式。\n",
    "\"\"\",\n",
    "\"\"\"\n",
    "在 Laravel 專案中，Artisan 是 Laravel 官方開發的命令列工具。\n",
    "你可以用它建立控制器，模型，資料表，\n",
    "或執行資料庫遷移，測試，甚至清理快取。\n",
    "你可以用批H批 artisan 來輕鬆調用 artisan 指令，\n",
    "你甚至可以自訂 artisan 指令來執行批H批程式。\n",
    "\"\"\",\n",
    "\"\"\"\n",
    "在 Laravel 專案中，p h p unit dot x m l 是測試工具 p h p unit 的設定檔。\n",
    "它定義了測試環境、測試資料庫，\n",
    "以及哪些檔案需要執行測試。\n",
    "\"\"\",\n",
    "\"\"\"\n",
    "在 Laravel 專案中，composer.json 是 批H批 套件管理的設定檔。\n",
    "它記錄了專案所依賴的套件，版本限制，\n",
    "以及自動載入規則。\n",
    "\"\"\",\n",
    "\"\"\"\n",
    "在 Laravel 專案中，package.json 是前端資源管理的設定檔。\n",
    "它記錄了JavaScript 套件依賴，腳本命令，\n",
    "以及前端建置工具的設定。\n",
    "\"\"\",\n",
    "\"\"\"\n",
    "在 Laravel 專案中，vite.config.js 是前端建置工具 Vite 的設定檔。\n",
    "它定義了資源編譯，模組熱更新，以及打包輸出規則。\n",
    "\"\"\"\n",
    "]\n",
    "i = 12"
   ]
  },
  {
   "cell_type": "code",
   "execution_count": 27,
   "id": "9ff86fa2",
   "metadata": {},
   "outputs": [
    {
     "name": "stdout",
     "output_type": "stream",
     "text": [
      "Synthesizing: Laravel的public資料夾[:ㄐㄧㄚ2]，就像網站的大門。\n",
      "max value is  tensor(1.0008)\n",
      "Synthesizing: 所有使用者的請求，都會先進到這裡。\n",
      "max value is  tensor(1.0008)\n",
      "Synthesizing: 裡面最重要的檔案是index点[:ㄉㄧㄢ3]php，它會啟動整個Laravel，並把請求交給系統處理。\n",
      "max value is  tensor(1.0008)\n",
      "Synthesizing: 同時，public也存放CSS，JS，圖片等靜態資源，方便瀏覽器直接存取。\n",
      "max value is  tensor(1.0008)\n",
      "Synthesizing: 因為只有public可以對 外公開，Laravel其他核心程式就能被保護起來，確保應用安全。\n",
      "max value is  tensor(1.0008)\n"
     ]
    },
    {
     "name": "stderr",
     "output_type": "stream",
     "text": [
      "/home/paxton/miniconda3/envs/tts-breezy-voice/lib/python3.10/site-packages/torchaudio/_backend/utils.py:337: UserWarning: In 2.9, this function's implementation will be changed to use torchaudio.save_with_torchcodec` under the hood. Some parameters like format, encoding, bits_per_sample, buffer_size, and ``backend`` will be ignored. We recommend that you port your code to rely directly on TorchCodec's encoder instead: https://docs.pytorch.org/torchcodec/stable/generated/torchcodec.encoders.AudioEncoder\n",
      "  warnings.warn(\n",
      "/home/paxton/miniconda3/envs/tts-breezy-voice/lib/python3.10/site-packages/torchaudio/_backend/ffmpeg.py:247: UserWarning: torio.io._streaming_media_encoder.StreamingMediaEncoder has been deprecated. This deprecation is part of a large refactoring effort to transition TorchAudio into a maintenance phase. The decoding and encoding capabilities of PyTorch for both audio and video are being consolidated into TorchCodec. Please see https://github.com/pytorch/audio/issues/3902 for more information. It will be removed from the 2.9 release. \n",
      "  s = torchaudio.io.StreamWriter(uri, format=muxer, buffer_size=buffer_size)\n"
     ]
    },
    {
     "name": "stdout",
     "output_type": "stream",
     "text": [
      "Synthesizing: 在Laravel專案中，resources資料夾[:ㄐㄧㄚ2]放的是前端相關的資源。\n",
      "max value is  tensor(1.0008)\n",
      "Synthesizing: 像是Blade樣板，CSS和JavaScript原始檔，以及語系翻譯檔。\n",
      "max value is  tensor(1.0008)\n",
      "Synthesizing: 在Laravel專案中，routes資料夾[:ㄐㄧㄚ2]用來定義網站的所有路由。\n",
      "max value is  tensor(1.0008)\n",
      "Synthesizing: 裡面有web点[:ㄉㄧㄢ3]php負責網頁路由，api点[:ㄉㄧㄢ3]php處理API，還有console点[:ㄉㄧㄢ3]php負責處理指令，channels点[:ㄉㄧㄢ3]php負責處理websocket。\n",
      "max value is  tensor(1.0008)\n",
      "Synthesizing: 在Laravel專案中，storage資料夾[:ㄐㄧㄚ2]用來存放應用程式的檔案。\n",
      "max value is  tensor(1.0008)\n",
      "Synthesizing: 這裡有logs日誌檔，framework快取，還有上傳的檔案。\n",
      "max value is  tensor(1.0008)\n",
      "Synthesizing: 在Laravel專案中，tests資料夾[:ㄐㄧㄚ2]用來放置測試程式碼。\n",
      "max value is  tensor(1.0008)\n",
      "Synthesizing: 這裡可以寫單元測試或功能測試，幫助你確保程式邏輯正確無誤。\n",
      "max value is  tensor(1.0008)\n",
      "Synthesizing: 在Laravel專案中，、env檔案用來管理環境設定。\n",
      "max value is  tensor(1.0008)\n",
      "Synthesizing: 像是資料庫帳號密碼，API金鑰，甚至應用程式模式。\n",
      "max value is  tensor(1.0008)\n",
      "Synthesizing: 在Laravel專案中，Artisan Laravel官方開發的命令列工具。\n",
      "max value is  tensor(1.0008)\n",
      "Synthesizing: 你可以用它建立控制器，模型，資料表，或執行資料庫遷移，測試，甚至清理快取。\n",
      "max value is  tensor(1.0008)\n",
      "Synthesizing: 你可以用php artisan xxx來輕鬆調用artisan指令，你甚至可以自訂artisan指令來執行php程式。\n",
      "max value is  tensor(1.0008)\n",
      "Synthesizing: 在Laravel專案中，phpunit点[:ㄉㄧㄢ3]xml是測試工具PHPUnit的設定檔。\n",
      "max value is  tensor(1.0008)\n",
      "Synthesizing: 它定義了測試環境，測試資料庫，以及哪些檔案需要執行測試。\n",
      "max value is  tensor(1.0008)\n",
      "Synthesizing: 在Laravel專案中，composer点[:ㄉㄧㄢ3]json是PHP套件管理的設定檔。\n",
      "max value is  tensor(1.0008)\n",
      "Synthesizing: 它記錄了專案所依賴的套件，版本限制，以及自動載入規則。\n",
      "max value is  tensor(1.0008)\n",
      "Synthesizing: 在Laravel專案中，package点[:ㄉㄧㄢ3]json是前端資源管理的設定檔。\n",
      "max value is  tensor(1.0008)\n",
      "Synthesizing: 它記錄了JavaScript套件依賴，腳本命令，以及前端建置工具的設定。\n",
      "max value is  tensor(1.0008)\n",
      "Synthesizing: 在Laravel專案中，vite点[:ㄉㄧㄢ3]config点[:ㄉㄧㄢ3]js是前端建置工具Vite的設定檔。\n",
      "max value is  tensor(1.0008)\n",
      "Synthesizing: 它定義了資源編譯，模組熱更新，以及打包輸出規則。\n",
      "max value is  tensor(1.0008)\n"
     ]
    }
   ],
   "source": [
    "import os\n",
    "\n",
    "output_dir = \"results\"\n",
    "os.makedirs(output_dir, exist_ok=True)\n",
    "\n",
    "for idx, text in enumerate(data):\n",
    "    output_file = os.path.join(output_dir, f\"{idx+i}.wav\")\n",
    "    tts.generate(text, output_file)"
   ]
  }
 ],
 "metadata": {
  "kernelspec": {
   "display_name": "tts-breezy-voice",
   "language": "python",
   "name": "python3"
  },
  "language_info": {
   "codemirror_mode": {
    "name": "ipython",
    "version": 3
   },
   "file_extension": ".py",
   "mimetype": "text/x-python",
   "name": "python",
   "nbconvert_exporter": "python",
   "pygments_lexer": "ipython3",
   "version": "3.10.18"
  }
 },
 "nbformat": 4,
 "nbformat_minor": 5
}
